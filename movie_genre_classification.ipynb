{
  "nbformat": 4,
  "nbformat_minor": 0,
  "metadata": {
    "colab": {
      "provenance": []
    },
    "kernelspec": {
      "name": "python3",
      "display_name": "Python 3"
    },
    "language_info": {
      "name": "python"
    }
  },
  "cells": [
    {
      "cell_type": "code",
      "execution_count": 3,
      "metadata": {
        "colab": {
          "base_uri": "https://localhost:8080/"
        },
        "id": "bNH385TT1N7Q",
        "outputId": "34cd8c29-4ecc-4d67-d337-0e57fafa3509"
      },
      "outputs": [
        {
          "output_type": "stream",
          "name": "stdout",
          "text": [
            "Drive already mounted at /content/drive/; to attempt to forcibly remount, call drive.mount(\"/content/drive/\", force_remount=True).\n"
          ]
        },
        {
          "output_type": "execute_result",
          "data": {
            "text/plain": [
              "Index(['MovieName', 'Genre', 'Rating', 'Director', 'Actor', 'PeopleVote',\n",
              "       'Year', 'Hero_Rating', 'movie_rating', 'content_rating'],\n",
              "      dtype='object')"
            ]
          },
          "metadata": {},
          "execution_count": 3
        }
      ],
      "source": [
        "import pandas as pd\n",
        "from google.colab import drive\n",
        "drive.mount('/content/drive/')\n",
        "data = pd.read_csv('/content/drive/MyDrive/Tamil_movies_dataset.csv')\n",
        "data.columns\n"
      ]
    },
    {
      "cell_type": "code",
      "source": [
        "#movie genre classification (ML task in codsoft)\n",
        "import pandas as pd\n",
        "from sklearn.model_selection import train_test_split\n",
        "from sklearn.feature_extraction.text import TfidfVectorizer\n",
        "from sklearn.naive_bayes import MultinomialNB\n",
        "from sklearn.linear_model import LogisticRegression\n",
        "from sklearn.svm import SVC\n",
        "from sklearn.metrics import classification_report, accuracy_score\n",
        "\n",
        "# Load your dataset\n",
        "data = pd.read_csv('/content/drive/MyDrive/test_predictions.csv')\n",
        "\n",
        "# Split the dataset into training and testing sets\n",
        "X = data['DESCRIPTION']\n",
        "y = data['PREDICTED_GENRE']\n",
        "X_train, X_test, y_train, y_test = train_test_split(X, y, test_size=0.2, random_state=42)\n",
        "\n",
        "# Create TF-IDF vector representations of the text data\n",
        "tfidf_vectorizer = TfidfVectorizer(max_features=5000, stop_words='english')\n",
        "X_train_tfidf = tfidf_vectorizer.fit_transform(X_train)\n",
        "X_test_tfidf = tfidf_vectorizer.transform(X_test)\n",
        "\n",
        "# Choose a classifier and train the model\n",
        "nb_classifier = MultinomialNB()\n",
        "nb_classifier.fit(X_train_tfidf, y_train)\n",
        "y_pred_nb = nb_classifier.predict(X_test_tfidf)\n",
        "\n",
        "# Evaluate the model's performance\n",
        "def evaluate_model(y_true, y_pred, model_name):\n",
        "    print(f\"Evaluation for {model_name}:\")\n",
        "    accuracy = accuracy_score(y_true, y_pred)\n",
        "    classification_rep = classification_report(y_true, y_pred)\n",
        "    print(f\"Accuracy: {accuracy:.2f}\")\n",
        "    print(classification_rep)\n",
        "\n",
        "evaluate_model(y_test, y_pred_nb, \"Naive Bayes\")\n"
      ],
      "metadata": {
        "colab": {
          "base_uri": "https://localhost:8080/"
        },
        "id": "Xhxhxs7Z1YqC",
        "outputId": "bb51c1e4-8a12-49ad-a878-099e6b72cd04"
      },
      "execution_count": 4,
      "outputs": [
        {
          "output_type": "stream",
          "name": "stdout",
          "text": [
            "Evaluation for Naive Bayes:\n",
            "Accuracy: 0.70\n",
            "              precision    recall  f1-score   support\n",
            "\n",
            "      action       1.00      0.02      0.04       138\n",
            "       adult       0.00      0.00      0.00        41\n",
            "   adventure       1.00      0.07      0.14        40\n",
            "   animation       0.00      0.00      0.00         8\n",
            "      comedy       0.77      0.45      0.57      1699\n",
            "       crime       0.00      0.00      0.00        10\n",
            " documentary       0.75      0.90      0.82      3436\n",
            "       drama       0.64      0.92      0.75      3770\n",
            "      family       0.00      0.00      0.00        31\n",
            "     fantasy       0.00      0.00      0.00         1\n",
            "   game-show       1.00      0.26      0.41        23\n",
            "      horror       0.96      0.24      0.38       387\n",
            "       music       0.00      0.00      0.00        92\n",
            "     musical       0.00      0.00      0.00         4\n",
            "        news       0.00      0.00      0.00         1\n",
            "  reality-tv       0.00      0.00      0.00        68\n",
            "     romance       0.00      0.00      0.00        14\n",
            "      sci-fi       0.00      0.00      0.00        57\n",
            "       short       1.00      0.10      0.19       710\n",
            "       sport       1.00      0.17      0.29        29\n",
            "   talk-show       0.00      0.00      0.00        22\n",
            "    thriller       0.00      0.00      0.00        97\n",
            "     western       1.00      0.57      0.73       162\n",
            "\n",
            "    accuracy                           0.70     10840\n",
            "   macro avg       0.40      0.16      0.19     10840\n",
            "weighted avg       0.72      0.70      0.65     10840\n",
            "\n"
          ]
        },
        {
          "output_type": "stream",
          "name": "stderr",
          "text": [
            "/usr/local/lib/python3.10/dist-packages/sklearn/metrics/_classification.py:1344: UndefinedMetricWarning: Precision and F-score are ill-defined and being set to 0.0 in labels with no predicted samples. Use `zero_division` parameter to control this behavior.\n",
            "  _warn_prf(average, modifier, msg_start, len(result))\n",
            "/usr/local/lib/python3.10/dist-packages/sklearn/metrics/_classification.py:1344: UndefinedMetricWarning: Precision and F-score are ill-defined and being set to 0.0 in labels with no predicted samples. Use `zero_division` parameter to control this behavior.\n",
            "  _warn_prf(average, modifier, msg_start, len(result))\n",
            "/usr/local/lib/python3.10/dist-packages/sklearn/metrics/_classification.py:1344: UndefinedMetricWarning: Precision and F-score are ill-defined and being set to 0.0 in labels with no predicted samples. Use `zero_division` parameter to control this behavior.\n",
            "  _warn_prf(average, modifier, msg_start, len(result))\n"
          ]
        }
      ]
    },
    {
      "cell_type": "code",
      "source": [],
      "metadata": {
        "id": "VnMUAdrb1Ytp"
      },
      "execution_count": null,
      "outputs": []
    }
  ]
}
